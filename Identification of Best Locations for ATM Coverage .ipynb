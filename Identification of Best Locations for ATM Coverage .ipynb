{
    "cells": [
        {
            "attachments": {},
            "cell_type": "markdown",
            "metadata": {
                "collapsed": true
            },
            "source": "## Identifying the Optimal locations for the ATM coverage area using clustering algorithm"
        },
        {
            "cell_type": "markdown",
            "metadata": {},
            "source": "### Overview"
        },
        {
            "attachments": {},
            "cell_type": "markdown",
            "metadata": {},
            "source": "Identifying the correct ATM location is a problem of critical importance and optimizing business operations without affecting customer service is very challenging for the banks. In the case of banking services, the location of ATMs must match the service demands (turnaround time for service, accessibility etc) of the customers. Therefore, it is necessary to analyse the geographical data of neighbourhoods so as to reflect the customers' convenience and tolerance for quality of service in a given geographical region."
        },
        {
            "cell_type": "markdown",
            "metadata": {},
            "source": "### Scope"
        },
        {
            "cell_type": "markdown",
            "metadata": {},
            "source": "The project scope is to suggest the neighbourhoods for establishing the ATM in the Toronto city based on the foursquare public API and census data. "
        },
        {
            "cell_type": "markdown",
            "metadata": {},
            "source": "### Approach"
        },
        {
            "attachments": {},
            "cell_type": "markdown",
            "metadata": {},
            "source": "I propose to utilize the density based clustering algorithm (GDBSCAN) to segment the neighbourhoods based on the location demographics and the preferences for ATM location among customers utilizing the ATM services. \nI will have three datasources: \n\n1. I will retrieve Foursquare data from their Public API\n\n2. I will use the census block dataset from the data portal of the city of New York City as a grid for the borough of Manhattan.\n\n3. I will use the data from google maps\n\nI would join the data from all the above mentioned sources and clean them for the consumption. I will perform clustering on these data and propose to use the DBSCAN algorithms to cluster the locations. Using the Numerical Heatmap, I would be able to characterize our clusters and rename them accordingly.\n\nUsing the clusters and their characteristics,  i would propose the neighbourhoods for establishing the ATM's "
        },
        {
            "cell_type": "code",
            "execution_count": null,
            "metadata": {},
            "outputs": [],
            "source": ""
        }
    ],
    "metadata": {
        "kernelspec": {
            "display_name": "Python 3.6",
            "language": "python",
            "name": "python3"
        },
        "language_info": {
            "codemirror_mode": {
                "name": "ipython",
                "version": 3
            },
            "file_extension": ".py",
            "mimetype": "text/x-python",
            "name": "python",
            "nbconvert_exporter": "python",
            "pygments_lexer": "ipython3",
            "version": "3.6.9"
        }
    },
    "nbformat": 4,
    "nbformat_minor": 1
}